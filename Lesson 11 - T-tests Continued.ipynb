{
 "metadata": {
  "name": ""
 },
 "nbformat": 3,
 "nbformat_minor": 0,
 "worksheets": [
  {
   "cells": [
    {
     "cell_type": "code",
     "collapsed": false,
     "input": [
      "import pandas as p\n",
      "import numpy as np\n",
      "from __future__ import division\n",
      "\n",
      "prices = p.read_csv(\"food_prices.csv\", na_values=[\" \"])\n",
      "\n",
      "g = prices[\"gettysburg\"]\n",
      "w = prices[\"wilma\"][:14]  # remove NaNs\n",
      "\n",
      "gmean = g.mean()\n",
      "wmean = w.mean()\n",
      "\n",
      "print g.mean()\n",
      "print w.mean()"
     ],
     "language": "python",
     "metadata": {},
     "outputs": [
      {
       "output_type": "stream",
       "stream": "stdout",
       "text": [
        "8.94444444444\n",
        "11.1428571429\n"
       ]
      }
     ],
     "prompt_number": 1
    },
    {
     "cell_type": "code",
     "collapsed": false,
     "input": [
      "gsd = g.std(ddof=1)\n",
      "wsd = w.std(ddof=1)\n",
      "\n",
      "print gsd\n",
      "print wsd"
     ],
     "language": "python",
     "metadata": {},
     "outputs": [
      {
       "output_type": "stream",
       "stream": "stdout",
       "text": [
        "2.64513364996\n",
        "2.17881911761\n"
       ]
      }
     ],
     "prompt_number": 2
    },
    {
     "cell_type": "code",
     "collapsed": false,
     "input": [
      "gn = len(g)\n",
      "wn = len(w)\n",
      "\n",
      "sem = sqrt((gsd**2 / gn) + (wsd**2 / wn))\n",
      "\n",
      "print sem"
     ],
     "language": "python",
     "metadata": {},
     "outputs": [
      {
       "output_type": "stream",
       "stream": "stdout",
       "text": [
        "0.853110084768\n"
       ]
      }
     ],
     "prompt_number": 3
    },
    {
     "cell_type": "code",
     "collapsed": false,
     "input": [
      "t_g_first = (gmean - wmean) / sem\n",
      "t_w_first = (wmean - gmean) / sem\n",
      "\n",
      "print t_g_first\n",
      "print t_w_first"
     ],
     "language": "python",
     "metadata": {},
     "outputs": [
      {
       "output_type": "stream",
       "stream": "stdout",
       "text": [
        "-2.57693905824\n",
        "2.57693905824\n"
       ]
      }
     ],
     "prompt_number": 4
    },
    {
     "cell_type": "code",
     "collapsed": false,
     "input": [
      "dof = gn + wn - 2\n",
      "\n",
      "print dof"
     ],
     "language": "python",
     "metadata": {},
     "outputs": [
      {
       "output_type": "stream",
       "stream": "stdout",
       "text": [
        "30\n"
       ]
      }
     ],
     "prompt_number": 5
    },
    {
     "cell_type": "code",
     "collapsed": false,
     "input": [
      "# t crit for alpha 0.05 two-tailed test with dof 30\n",
      "tcrit = 2.042"
     ],
     "language": "python",
     "metadata": {},
     "outputs": [],
     "prompt_number": 6
    },
    {
     "cell_type": "code",
     "collapsed": false,
     "input": [
      "drugt = (33.5 - 31.2) / sqrt((8.89**2 / 6) + (10.16**2 / 5))\n",
      "print drugt"
     ],
     "language": "python",
     "metadata": {},
     "outputs": [
      {
       "output_type": "stream",
       "stream": "stdout",
       "text": [
        "0.395511776868\n"
       ]
      }
     ],
     "prompt_number": 7
    },
    {
     "cell_type": "code",
     "collapsed": false,
     "input": [
      "# t crit for alpha 0.05 two-tailed test with dof 9\n",
      "drugtcrit = 2.262\n"
     ],
     "language": "python",
     "metadata": {},
     "outputs": [],
     "prompt_number": 8
    },
    {
     "cell_type": "code",
     "collapsed": false,
     "input": [
      "shoesf = numpy.array([\n",
      "90,\n",
      "28,\n",
      "30,\n",
      "10,\n",
      "5,\n",
      "9,\n",
      "60])\n",
      "\n",
      "shoesm = numpy.array([\n",
      "4,\n",
      "120,\n",
      "5,\n",
      "3,\n",
      "10,\n",
      "3,\n",
      "5,\n",
      "13,\n",
      "4,\n",
      "10,\n",
      "21])\n",
      "\n",
      "shoesfmean = shoesf.mean()\n",
      "shoesmmean = shoesm.mean()\n",
      "shoesfsd = shoesf.std(ddof=1)\n",
      "shoesmsd = shoesm.std(ddof=1)\n",
      "\n",
      "print shoesfmean\n",
      "print shoesmmean\n",
      "print\n",
      "print shoesfsd\n",
      "print shoesmsd"
     ],
     "language": "python",
     "metadata": {},
     "outputs": [
      {
       "output_type": "stream",
       "stream": "stdout",
       "text": [
        "33.1428571429\n",
        "18.0\n",
        "\n",
        "31.3604239524\n",
        "34.2724379057\n"
       ]
      }
     ],
     "prompt_number": 9
    },
    {
     "cell_type": "code",
     "collapsed": false,
     "input": [
      "shoesfn = 7\n",
      "shoesmn = 11\n",
      "\n",
      "shoesfvar = shoesfsd ** 2\n",
      "shoesmvar = shoesmsd ** 2\n",
      "\n",
      "sem = sqrt( shoesfvar / shoesfn + shoesmvar / shoesmn )\n",
      "print sem"
     ],
     "language": "python",
     "metadata": {},
     "outputs": [
      {
       "output_type": "stream",
       "stream": "stdout",
       "text": [
        "15.7250887699\n"
       ]
      }
     ],
     "prompt_number": 10
    },
    {
     "cell_type": "code",
     "collapsed": false,
     "input": [
      "shoest = (shoesfmean - shoesmmean) / sem\n",
      "print shoest"
     ],
     "language": "python",
     "metadata": {},
     "outputs": [
      {
       "output_type": "stream",
       "stream": "stdout",
       "text": [
        "0.96297435038\n"
       ]
      }
     ],
     "prompt_number": 12
    },
    {
     "cell_type": "code",
     "collapsed": false,
     "input": [
      "# alpha 0.05 dof 16\n",
      "shoestcrit = 2.12\n",
      "\n",
      "# 95% CI\n",
      "shoesMarginError = shoestcrit * sem\n",
      "shoesPointEstimate = shoesfmean - shoesmmean  # difference of means\n",
      "shoesCIupper = shoesPointEstimate + shoesMarginError\n",
      "shoesCIlower = shoesPointEstimate - shoesMarginError\n",
      "\n",
      "print shoesCIupper\n",
      "print shoesCIlower\n",
      "\n",
      "# Negative value for lower bound means possible for males to have more shoes than females"
     ],
     "language": "python",
     "metadata": {},
     "outputs": [
      {
       "output_type": "stream",
       "stream": "stdout",
       "text": [
        "48.480045335\n",
        "-18.1943310493\n"
       ]
      }
     ],
     "prompt_number": 13
    },
    {
     "cell_type": "code",
     "collapsed": false,
     "input": [
      "shoesdof = len(shoesf) + len(shoesm) - 2\n",
      "shoesRsq = shoest ** 2 / float((shoest ** 2 + shoesdof))\n",
      "\n",
      "print len(shoesf)\n",
      "print len(shoesm)\n",
      "print shoesdof\n",
      "print shoesRsq"
     ],
     "language": "python",
     "metadata": {},
     "outputs": [
      {
       "output_type": "stream",
       "stream": "stdout",
       "text": [
        "7\n",
        "11\n",
        "16\n",
        "0.0547824240004\n"
       ]
      }
     ],
     "prompt_number": 17
    },
    {
     "cell_type": "code",
     "collapsed": false,
     "input": [
      "x = [5, 6, 1, -4]\n",
      "y = [3, 7, 8]\n",
      "\n",
      "xmean = np.mean(x)  # 4\n",
      "ymean = np.mean(y)  # 6\n",
      "\n",
      "SSx = sum([(a - xmean)**2 for a in x])\n",
      "SSy = sum([(b - ymean)**2 for b in y])\n",
      "\n",
      "print [(a - xmean)**2 for a in x]\n",
      "print SSx\n",
      "print SSy"
     ],
     "language": "python",
     "metadata": {},
     "outputs": [
      {
       "output_type": "stream",
       "stream": "stdout",
       "text": [
        "[9.0, 16.0, 1.0, 36.0]\n",
        "62.0\n",
        "14.0\n"
       ]
      }
     ],
     "prompt_number": 10
    },
    {
     "cell_type": "code",
     "collapsed": false,
     "input": [
      "pv = (SSx + SSy) / 5.0\n",
      "print pv"
     ],
     "language": "python",
     "metadata": {},
     "outputs": [
      {
       "output_type": "stream",
       "stream": "stdout",
       "text": [
        "15.2\n"
       ]
      }
     ],
     "prompt_number": 11
    },
    {
     "cell_type": "code",
     "collapsed": false,
     "input": [
      "se = sqrt((15.2/4) + (15.2/3))\n",
      "print se"
     ],
     "language": "python",
     "metadata": {},
     "outputs": [
      {
       "output_type": "stream",
       "stream": "stdout",
       "text": [
        "2.97769485788\n"
       ]
      }
     ],
     "prompt_number": 13
    },
    {
     "cell_type": "code",
     "collapsed": false,
     "input": [
      "t = (xmean - ymean) / se\n",
      "print t"
     ],
     "language": "python",
     "metadata": {},
     "outputs": [
      {
       "output_type": "stream",
       "stream": "stdout",
       "text": [
        "-1.34332098852\n"
       ]
      }
     ],
     "prompt_number": 15
    },
    {
     "cell_type": "code",
     "collapsed": false,
     "input": [],
     "language": "python",
     "metadata": {},
     "outputs": []
    }
   ],
   "metadata": {}
  }
 ]
}