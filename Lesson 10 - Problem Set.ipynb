{
 "metadata": {
  "name": ""
 },
 "nbformat": 3,
 "nbformat_minor": 0,
 "worksheets": [
  {
   "cells": [
    {
     "cell_type": "code",
     "collapsed": false,
     "input": [
      "n = 1000\n",
      "dof = 999\n",
      "\n",
      "# t critical for alpha 0.05 one-tailed test\n",
      "tcrit = 1.646\n",
      "\n",
      "mean1 = 3\n",
      "sd1 = 1.2\n",
      "mean2 = 12\n",
      "sd2 = 2.7\n",
      "\n",
      "# calculate vals for difference\n",
      "meanD = mean2 - mean1  # 9.000000\n",
      "sdD = sqrt(sd1 ** 2 + sd2 ** 2)  # 2.954657\n",
      "print \"Difference of means: %f\" % meanD\n",
      "print \"Difference of SDs: %f\" % sdD\n",
      "\n",
      "sem = sdD / sqrt(n)  # 0.093434\n",
      "t = meanD / sem  # 96.324195\n",
      "\n",
      "print \"Standard error of means: %f\" % sem\n",
      "print \"T statistic: %f\" % t"
     ],
     "language": "python",
     "metadata": {},
     "outputs": [
      {
       "output_type": "stream",
       "stream": "stdout",
       "text": [
        "Difference of means: 9.000000\n",
        "Difference of SDs: 2.954657\n",
        "Standard error of means: 0.093434\n",
        "T statistic: 96.324195\n"
       ]
      }
     ],
     "prompt_number": 2
    },
    {
     "cell_type": "code",
     "collapsed": false,
     "input": [
      "from __future__ import division\n",
      "carPreTest = [8, 7, 6, 9, 10, 5, 7, 11, 8, 7]\n",
      "carPostTest = [5, 6, 4, 6, 5, 3, 2, 9, 4, 4]\n",
      "\n",
      "carDiffMeans = [y - x for x, y in zip(carPreTest, carPostTest)]\n",
      "# [-3, -1, -2, -3, -5, -2, -5, -2, -4, -3]\n",
      "\n",
      "carDiffMean = sum(carDiffMeans) / len(carDiffMeans) # -3\n",
      "\n",
      "carPreMean = sum(carPreTest) / len(carPreTest)  # 7\n",
      "carPostMean = sum(carPostTest) / len(carPostTest)  # 4\n",
      "\n",
      "carN = 10\n",
      "\n",
      "# T critical for alpha level .05 with 9 degrees of freedom\n",
      "carCritical = -1.833\n",
      "\n",
      "carsdD = 1.33\n",
      "sem = carsdD / sqrt(carN)  # 0.420582928802\n",
      "\n",
      "carT = carDiffMean / sem  #-7.1329571282\n",
      "\n",
      "# pre - post; don't use carDiffMean here\n",
      "carCohensD = (carPreMean - carPostMean) / carsdD  # 2.25563909774\n",
      "\n",
      "# 95% confidence interval\n",
      "carCIcritical = 2.262\n",
      "carMarginOfError = carCIcritical * sem\n",
      "carCIupper = carDiffMean + carMarginOfError\n",
      "carCIlower = carDiffMean - carMarginOfError\n",
      "\n",
      "print carCIupper  # -2.04864141505\n",
      "print carCIlower  # -3.95135858495"
     ],
     "language": "python",
     "metadata": {},
     "outputs": [
      {
       "output_type": "stream",
       "stream": "stdout",
       "text": [
        "-2.04864141505\n",
        "-3.95135858495\n"
       ]
      }
     ],
     "prompt_number": 16
    },
    {
     "cell_type": "code",
     "collapsed": false,
     "input": [],
     "language": "python",
     "metadata": {},
     "outputs": []
    }
   ],
   "metadata": {}
  }
 ]
}