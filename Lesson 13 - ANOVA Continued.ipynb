{
 "metadata": {
  "name": ""
 },
 "nbformat": 3,
 "nbformat_minor": 0,
 "worksheets": [
  {
   "cells": [
    {
     "cell_type": "code",
     "collapsed": false,
     "input": [
      "import pandas as p\n",
      "import numpy as np\n",
      "import itertools as i\n",
      "from math import sqrt\n",
      "from __future__ import division\n",
      "\n",
      "foodA = [2, 4, 3]\n",
      "foodB = [6, 5, 7]\n",
      "foodC = [8, 9, 10]\n",
      "foods = foodA + foodB + foodC\n",
      "\n",
      "foodGrandMean = np.mean(foods)\n",
      "print foodGrandMean"
     ],
     "language": "python",
     "metadata": {},
     "outputs": [
      {
       "output_type": "stream",
       "stream": "stdout",
       "text": [
        "6.0\n"
       ]
      }
     ],
     "prompt_number": 25
    },
    {
     "cell_type": "code",
     "collapsed": false,
     "input": [
      "foodAmean = np.mean(foodA)\n",
      "foodBmean = np.mean(foodB)\n",
      "foodCmean = np.mean(foodC)\n",
      "\n",
      "print foodAmean\n",
      "print foodBmean\n",
      "print foodCmean"
     ],
     "language": "python",
     "metadata": {},
     "outputs": [
      {
       "output_type": "stream",
       "stream": "stdout",
       "text": [
        "3.0\n",
        "6.0\n",
        "9.0\n"
       ]
      }
     ],
     "prompt_number": 26
    },
    {
     "cell_type": "code",
     "collapsed": false,
     "input": [
      "foodSampleSize = len(foodA)\n",
      "foodSSbetween = foodSampleSize * sum([(np.mean(each) - foodGrandMean)**2 for each in [foodA, foodB, foodC]])\n",
      "print foodSSbetween"
     ],
     "language": "python",
     "metadata": {},
     "outputs": [
      {
       "output_type": "stream",
       "stream": "stdout",
       "text": [
        "54.0\n"
       ]
      }
     ],
     "prompt_number": 27
    },
    {
     "cell_type": "code",
     "collapsed": false,
     "input": [
      "def sswithin(samples):\n",
      "    \"\"\"\n",
      "    Takes a list of lists of samples, returns the sum of squares for within-group\n",
      "    \"\"\"\n",
      "    results = []\n",
      "    \n",
      "    for sample in samples:\n",
      "        sample_mean = np.mean(sample)\n",
      "        sum_of_squares = [(each - sample_mean)**2 for each in sample]\n",
      "        results.append(sum(sum_of_squares))\n",
      "    \n",
      "    return sum(results)\n",
      "\n",
      "foodSSwithin = sswithin([foodA, foodB, foodC])\n",
      "print foodSSwithin\n"
     ],
     "language": "python",
     "metadata": {},
     "outputs": [
      {
       "output_type": "stream",
       "stream": "stdout",
       "text": [
        "6.0\n"
       ]
      }
     ],
     "prompt_number": 28
    },
    {
     "cell_type": "code",
     "collapsed": false,
     "input": [
      "foodDFbetween = 2\n",
      "foodDFwithin = 6"
     ],
     "language": "python",
     "metadata": {},
     "outputs": [],
     "prompt_number": 29
    },
    {
     "cell_type": "code",
     "collapsed": false,
     "input": [
      "foodMSbetween =  foodSSbetween / foodDFbetween\n",
      "foodMSwithin = foodSSwithin / foodDFwithin\n",
      "print foodMSbetween\n",
      "print foodMSwithin"
     ],
     "language": "python",
     "metadata": {},
     "outputs": [
      {
       "output_type": "stream",
       "stream": "stdout",
       "text": [
        "27.0\n",
        "1.0\n"
       ]
      }
     ],
     "prompt_number": 30
    },
    {
     "cell_type": "code",
     "collapsed": false,
     "input": [
      "foodF = foodMSbetween / foodMSwithin\n",
      "print foodF"
     ],
     "language": "python",
     "metadata": {},
     "outputs": [
      {
       "output_type": "stream",
       "stream": "stdout",
       "text": [
        "27.0\n"
       ]
      }
     ],
     "prompt_number": 31
    },
    {
     "cell_type": "code",
     "collapsed": false,
     "input": [
      "# alpha 0.05 dof 2/6\n",
      "foodFcrit = 5.1433"
     ],
     "language": "python",
     "metadata": {},
     "outputs": [],
     "prompt_number": 32
    },
    {
     "cell_type": "code",
     "collapsed": false,
     "input": [
      "foodSStotal = sum([(each - foodGrandMean)**2 for each in foods])\n",
      "# or just add SSb to SSw\n",
      "print foodSStotal"
     ],
     "language": "python",
     "metadata": {},
     "outputs": [
      {
       "output_type": "stream",
       "stream": "stdout",
       "text": [
        "60.0\n"
       ]
      }
     ],
     "prompt_number": 33
    },
    {
     "cell_type": "code",
     "collapsed": false,
     "input": [
      "# Multiple Comparison Tests\n",
      "\n",
      "# Q for HSD @ alpha 0.05\n",
      "foodQ = 4.339\n",
      "foodHsd = foodQ * sqrt(foodMSwithin / len(foodA))\n",
      "print foodHsd"
     ],
     "language": "python",
     "metadata": {},
     "outputs": [
      {
       "output_type": "stream",
       "stream": "stdout",
       "text": [
        "2.50512281801\n"
       ]
      }
     ],
     "prompt_number": 35
    },
    {
     "cell_type": "code",
     "collapsed": false,
     "input": [
      "foodDab = (foodAmean - foodBmean) / sqrt(foodMSwithin)\n",
      "foodDbc = (foodBmean - foodCmean) / sqrt(foodMSwithin)\n",
      "foodDac = (foodAmean - foodCmean) / sqrt(foodMSwithin)\n",
      "\n",
      "print foodDab\n",
      "print foodDbc\n",
      "print foodDac"
     ],
     "language": "python",
     "metadata": {},
     "outputs": [
      {
       "output_type": "stream",
       "stream": "stdout",
       "text": [
        "-3.0\n",
        "-3.0\n",
        "-6.0\n"
       ]
      }
     ],
     "prompt_number": 36
    },
    {
     "cell_type": "code",
     "collapsed": false,
     "input": [
      "foodEtasq = foodSSbetween / (foodSSbetween + foodSSwithin)\n",
      "print foodEtasq"
     ],
     "language": "python",
     "metadata": {},
     "outputs": [
      {
       "output_type": "stream",
       "stream": "stdout",
       "text": [
        "0.9\n"
       ]
      }
     ],
     "prompt_number": 37
    },
    {
     "cell_type": "code",
     "collapsed": false,
     "input": [
      "placebo = [1.5, 1.3, 1.8, 1.6, 1.3]\n",
      "drug1 = [1.6, 1.7, 1.9, 1.2]\n",
      "drug2 = [2, 1.4, 1.5, 1.5, 1.8, 1.7, 1.4]\n",
      "drug3 = [2.9, 3.1, 2.8, 2.7]\n",
      "\n",
      "placeboMean = np.mean(placebo)\n",
      "drug1Mean = np.mean(drug1)\n",
      "drug2Mean = np.mean(drug2)\n",
      "drug3Mean = np.mean(drug3)\n",
      "\n",
      "print placeboMean\n",
      "print drug1Mean\n",
      "print drug2Mean\n",
      "print drug3Mean\n"
     ],
     "language": "python",
     "metadata": {},
     "outputs": [
      {
       "output_type": "stream",
       "stream": "stdout",
       "text": [
        "1.5\n",
        "1.6\n",
        "1.61428571429\n",
        "2.875\n"
       ]
      }
     ],
     "prompt_number": 39
    },
    {
     "cell_type": "code",
     "collapsed": false,
     "input": [
      "drugMeans = placebo + drug1 + drug2 + drug3\n",
      "drugGrandMean = sum(drugMeans) / len(drugMeans)\n",
      "print drugGrandMean"
     ],
     "language": "python",
     "metadata": {},
     "outputs": [
      {
       "output_type": "stream",
       "stream": "stdout",
       "text": [
        "1.835\n"
       ]
      }
     ],
     "prompt_number": 42
    },
    {
     "cell_type": "code",
     "collapsed": false,
     "input": [
      "drugSSbetween = sum([len(each) * (np.mean(each) - drugGrandMean)**2 for each in [placebo, drug1, drug2, drug3]])\n",
      "print drugSSbetween"
     ],
     "language": "python",
     "metadata": {},
     "outputs": [
      {
       "output_type": "stream",
       "stream": "stdout",
       "text": [
        "5.44942857143\n"
       ]
      }
     ],
     "prompt_number": 45
    },
    {
     "cell_type": "code",
     "collapsed": false,
     "input": [
      "drugSSwithin = sswithin([placebo, drug1, drug2, drug3])\n",
      "print drugSSwithin"
     ],
     "language": "python",
     "metadata": {},
     "outputs": [
      {
       "output_type": "stream",
       "stream": "stdout",
       "text": [
        "0.836071428571\n"
       ]
      }
     ],
     "prompt_number": 46
    },
    {
     "cell_type": "code",
     "collapsed": false,
     "input": [
      "drugDfBetween = 3\n",
      "drugDfWithin = sum([len(x) for x in [placebo, drug1, drug2, drug3]]) - 4\n",
      "print drugDfWithin"
     ],
     "language": "python",
     "metadata": {},
     "outputs": [
      {
       "output_type": "stream",
       "stream": "stdout",
       "text": [
        "16\n"
       ]
      }
     ],
     "prompt_number": 47
    },
    {
     "cell_type": "code",
     "collapsed": false,
     "input": [
      "drugMSbetween = drugSSbetween / drugDfBetween\n",
      "drugMSwithin = drugSSwithin / drugDfWithin\n",
      "drugF = drugMSbetween / drugMSwithin\n",
      "\n",
      "print drugMSbetween\n",
      "print drugMSwithin\n",
      "print drugF"
     ],
     "language": "python",
     "metadata": {},
     "outputs": [
      {
       "output_type": "stream",
       "stream": "stdout",
       "text": [
        "1.81647619048\n",
        "0.0522544642857\n",
        "34.7621244482\n"
       ]
      }
     ],
     "prompt_number": 48
    },
    {
     "cell_type": "code",
     "collapsed": false,
     "input": [
      "drugNsq = drugSSbetween / (drugSSbetween + drugSSwithin)\n",
      "print drugNsq"
     ],
     "language": "python",
     "metadata": {},
     "outputs": [
      {
       "output_type": "stream",
       "stream": "stdout",
       "text": [
        "0.866984101731\n"
       ]
      }
     ],
     "prompt_number": 52
    },
    {
     "cell_type": "code",
     "collapsed": false,
     "input": [],
     "language": "python",
     "metadata": {},
     "outputs": []
    }
   ],
   "metadata": {}
  }
 ]
}