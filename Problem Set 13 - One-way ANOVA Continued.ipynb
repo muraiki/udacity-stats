{
 "metadata": {
  "name": ""
 },
 "nbformat": 3,
 "nbformat_minor": 0,
 "worksheets": [
  {
   "cells": [
    {
     "cell_type": "code",
     "collapsed": false,
     "input": [
      "short = [-8, -11, -17, -9, -10, -5]\n",
      "long = [12, 9, 16, 8, 15]\n",
      "normal = [0.5, 0.0, -1.0, 1.5, 0.5, -0.1, 0.0]\n",
      "\n",
      "antsAllData = short + long + normal\n",
      "\n",
      "antsGrandMean = sum(antsAllData) / len(antsAllData)\n",
      "print antsGrandMean"
     ],
     "language": "python",
     "metadata": {},
     "outputs": [
      {
       "output_type": "stream",
       "stream": "stdout",
       "text": [
        "0.0777777777778\n"
       ]
      }
     ],
     "prompt_number": 4
    },
    {
     "cell_type": "code",
     "collapsed": false,
     "input": [
      "import numpy as np\n",
      "\n",
      "# using supplied means\n",
      "shortMean = -10\n",
      "longMean = 12\n",
      "normalMean = 0.2\n",
      "\n",
      "antsSSbetween = sum([len(each) * (np.mean(each) - antsGrandMean)**2 for each in [short, long, normal]])\n",
      "print antsSSbetween"
     ],
     "language": "python",
     "metadata": {},
     "outputs": [
      {
       "output_type": "stream",
       "stream": "stdout",
       "text": [
        "1320.17111111\n"
       ]
      }
     ],
     "prompt_number": 9
    },
    {
     "cell_type": "code",
     "collapsed": false,
     "input": [
      "antsDFbetween = 2\n",
      "antsDFwithin = len(short) + len(long) + len(normal) - 3\n",
      "print antsDFwithin"
     ],
     "language": "python",
     "metadata": {},
     "outputs": [
      {
       "output_type": "stream",
       "stream": "stdout",
       "text": [
        "15\n"
       ]
      }
     ],
     "prompt_number": 10
    },
    {
     "cell_type": "code",
     "collapsed": false,
     "input": [
      "antsMSbetween = antsSSbetween / antsDFbetween\n",
      "\n",
      "def sswithin(samples):\n",
      "    \"\"\"\n",
      "    Takes a list of lists of samples, returns the sum of squares for within-group\n",
      "    \"\"\"\n",
      "    results = []\n",
      "    \n",
      "    for sample in samples:\n",
      "        sample_mean = np.mean(sample)\n",
      "        sum_of_squares = [(each - sample_mean)**2 for each in sample]\n",
      "        results.append(sum(sum_of_squares))\n",
      "    \n",
      "    return sum(results)\n",
      "\n",
      "antsSSwithin = sswithin([short, long, normal])\n",
      "\n",
      "antsMSwithin = antsSSwithin / antsDFwithin\n",
      "\n",
      "print antsMSbetween\n",
      "print antsMSwithin"
     ],
     "language": "python",
     "metadata": {},
     "outputs": [
      {
       "output_type": "stream",
       "stream": "stdout",
       "text": [
        "660.085555556\n",
        "8.89866666667\n"
       ]
      }
     ],
     "prompt_number": 12
    },
    {
     "cell_type": "code",
     "collapsed": false,
     "input": [
      "antsF = antsMSbetween / antsMSwithin\n",
      "print antsF"
     ],
     "language": "python",
     "metadata": {},
     "outputs": [
      {
       "output_type": "stream",
       "stream": "stdout",
       "text": [
        "74.1780291679\n"
       ]
      }
     ],
     "prompt_number": 13
    },
    {
     "cell_type": "code",
     "collapsed": false,
     "input": [
      "# alpha 0.05\n",
      "antsFcrit = 3.6823"
     ],
     "language": "python",
     "metadata": {},
     "outputs": [],
     "prompt_number": 14
    },
    {
     "cell_type": "code",
     "collapsed": false,
     "input": [
      "antsEtaSq = antsSSbetween / (antsSSwithin + antsSSbetween)\n",
      "print antsEtaSq"
     ],
     "language": "python",
     "metadata": {},
     "outputs": [
      {
       "output_type": "stream",
       "stream": "stdout",
       "text": [
        "0.908176041019\n"
       ]
      }
     ],
     "prompt_number": 16
    },
    {
     "cell_type": "code",
     "collapsed": false,
     "input": [
      "single = [8,7,10,6,9]\n",
      "twin = [4,6,7,4,9]\n",
      "triplet = [4,4,7,2,3]\n",
      "\n",
      "langAllData = single + twin + triplet\n",
      "langGrandMean = sum(langAllData) / len(langAllData)\n",
      "\n",
      "langSSbetween = sum([len(each) * (np.mean(each) - langGrandMean)**2 for each in [single, twin, triplet]])\n",
      "\n",
      "langSSwithin = sswithin([single, twin, triplet])\n",
      "\n",
      "langEtaSq = langSSbetween / (langSSbetween + langSSwithin)\n",
      "\n",
      "print langEtaSq"
     ],
     "language": "python",
     "metadata": {},
     "outputs": [
      {
       "output_type": "stream",
       "stream": "stdout",
       "text": [
        "0.487804878049\n"
       ]
      }
     ],
     "prompt_number": 17
    },
    {
     "cell_type": "code",
     "collapsed": false,
     "input": [
      "from math import sqrt\n",
      "\n",
      "langDFwithin = len(single) + len(twin) + len(triplet) - 3\n",
      "langMSwithin = langSSwithin / langDFwithin\n",
      "\n",
      "# tukey hsd: q * sqrt(MSwithin / n)\n",
      "langHsdQ = 3.773\n",
      "langHsd = langHsdQ * sqrt(langMSwithin / len(single))\n",
      "\n",
      "print \"hsd: %f\" % langHsd\n",
      "\n",
      "def honestlySignificant(a, b, hsd):\n",
      "    print np.mean(a) - np.mean(b)\n",
      "    if np.mean(a) - np.mean(b) > hsd:\n",
      "        return True\n",
      "    else:\n",
      "        return False\n",
      "\n",
      "print honestlySignificant(single, twin, langHsd)\n",
      "print honestlySignificant(twin, triplet, langHsd)\n",
      "print honestlySignificant(single, triplet, langHsd)\n"
     ],
     "language": "python",
     "metadata": {},
     "outputs": [
      {
       "output_type": "stream",
       "stream": "stdout",
       "text": [
        "hsd: 3.156718\n",
        "2.0\n",
        "False\n",
        "2.0\n",
        "False\n",
        "4.0\n",
        "True\n"
       ]
      }
     ],
     "prompt_number": 28
    },
    {
     "cell_type": "code",
     "collapsed": false,
     "input": [],
     "language": "python",
     "metadata": {},
     "outputs": []
    }
   ],
   "metadata": {}
  }
 ]
}