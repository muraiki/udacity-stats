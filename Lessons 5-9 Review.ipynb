{
 "metadata": {
  "name": ""
 },
 "nbformat": 3,
 "nbformat_minor": 0,
 "worksheets": [
  {
   "cells": [
    {
     "cell_type": "code",
     "collapsed": false,
     "input": [
      "rain_mu = 2.4\n",
      "rain_sigma = 1.3\n",
      "rain_sample10_xbar = 1.8\n",
      "\n",
      "rain_sample10_se = rain_sigma / sqrt(10)\n",
      "\n",
      "print rain_sample10_se"
     ],
     "language": "python",
     "metadata": {},
     "outputs": [
      {
       "output_type": "stream",
       "stream": "stdout",
       "text": [
        "0.411096095822\n"
       ]
      }
     ],
     "prompt_number": 1
    },
    {
     "cell_type": "code",
     "collapsed": false,
     "input": [
      "rain_sample10_z = (rain_sample10_xbar - rain_mu) / rain_sample10_se\n",
      "\n",
      "print rain_sample10_z"
     ],
     "language": "python",
     "metadata": {},
     "outputs": [
      {
       "output_type": "stream",
       "stream": "stdout",
       "text": [
        "-1.45951276623\n"
       ]
      }
     ],
     "prompt_number": 2
    },
    {
     "cell_type": "code",
     "collapsed": false,
     "input": [
      "klout_mu = 40\n",
      "klout_sigma = 12\n",
      "\n",
      "klout_sample30_se = klout_sigma / sqrt(30)\n",
      "\n",
      "klout_alpha05_z = 1.96  # Z score for alpha .05 for two-tailed test\n",
      "\n",
      "def zscore(xbar, mu, se):\n",
      "    return (xbar - mu) / se\n",
      "\n",
      "def value_for_z(z, mu, sigma):\n",
      "    \"\"\"\n",
      "    Returns the value for a given Z score. Remember to call this again with -Z\n",
      "    when using this to find the CVs for a two-tailed test.\n",
      "    \"\"\"\n",
      "    return (z * sigma) + mu\n",
      "\n",
      "klout_sample30_z_pos = value_for_z(klout_alpha05_z, klout_mu, klout_sample30_se)\n",
      "klout_sample30_z_neg = value_for_z(-klout_alpha05_z, klout_mu, klout_sample30_se)\n",
      "\n",
      "print klout_sample30_z_pos\n",
      "print klout_sample30_z_neg"
     ],
     "language": "python",
     "metadata": {},
     "outputs": [
      {
       "output_type": "stream",
       "stream": "stdout",
       "text": [
        "44.2941448508\n",
        "35.7058551492\n"
       ]
      }
     ],
     "prompt_number": 3
    },
    {
     "cell_type": "code",
     "collapsed": false,
     "input": [
      "klout_sigma = 20 # Changes from 12 in this problem\n",
      "klout_sample25_se = klout_sigma / sqrt(25)\n",
      "klout_mean50_z = zscore(50, klout_mu, klout_sample25_se)\n",
      "\n",
      "print klout_mean50_z\n",
      "print 1 - .9938"
     ],
     "language": "python",
     "metadata": {},
     "outputs": [
      {
       "output_type": "stream",
       "stream": "stdout",
       "text": [
        "2.5\n",
        "0.0062\n"
       ]
      }
     ],
     "prompt_number": 4
    },
    {
     "cell_type": "code",
     "collapsed": false,
     "input": [
      "klout_sample50_se = klout_sigma / sqrt(50)\n",
      "klout_sample50_mean50_z = zscore(50, klout_mu, klout_sample50_se)\n",
      "\n",
      "print klout_sample50_mean50_z"
     ],
     "language": "python",
     "metadata": {},
     "outputs": [
      {
       "output_type": "stream",
       "stream": "stdout",
       "text": [
        "3.53553390593\n"
       ]
      }
     ],
     "prompt_number": 5
    },
    {
     "cell_type": "code",
     "collapsed": false,
     "input": [
      "pumpkin_mu = 34.0\n",
      "pumpkin_sigma = 5.0\n",
      "\n",
      "pumpkin_sample6_xbar = 38.0\n",
      "pumpkin_sample6_se = pumpkin_sigma / sqrt(6)\n",
      "\n",
      "critical_value_95 = 1.96\n",
      "\n",
      "def confidence_interval(xbar, se, cv):\n",
      "    return (xbar - (se * cv)), (xbar + (se * cv))\n",
      "\n",
      "pumpkin_sample6_ci = confidence_interval(pumpkin_sample6_xbar, pumpkin_sample6_se, critical_value_95)\n",
      "\n",
      "print str(pumpkin_sample6_ci)"
     ],
     "language": "python",
     "metadata": {},
     "outputs": [
      {
       "output_type": "stream",
       "stream": "stdout",
       "text": [
        "(33.999166753454141, 42.000833246545859)\n"
       ]
      }
     ],
     "prompt_number": 6
    },
    {
     "cell_type": "code",
     "collapsed": false,
     "input": [
      "pumpkin_sample6_z = (pumpkin_sample6_xbar - pumpkin_mu) / pumpkin_sample6_se\n",
      "\n",
      "print pumpkin_sample6_z"
     ],
     "language": "python",
     "metadata": {},
     "outputs": [
      {
       "output_type": "stream",
       "stream": "stdout",
       "text": [
        "1.95959179423\n"
       ]
      }
     ],
     "prompt_number": 7
    },
    {
     "cell_type": "code",
     "collapsed": false,
     "input": [
      "alpha05_z = 1.96  # Z score for alpha .05 for two-tailed test\n",
      "pumpkin_cv_lower = value_for_z(-1.96, pumpkin_mu, pumpkin_sample6_se)\n",
      "pumpkin_cv_upper= value_for_z(1.96, pumpkin_mu, pumpkin_sample6_se)\n",
      "\n",
      "print pumpkin_cv_lower\n",
      "print pumpkin_cv_upper"
     ],
     "language": "python",
     "metadata": {},
     "outputs": [
      {
       "output_type": "stream",
       "stream": "stdout",
       "text": [
        "29.9991667535\n",
        "38.0008332465\n"
       ]
      }
     ],
     "prompt_number": 8
    },
    {
     "cell_type": "code",
     "collapsed": false,
     "input": [
      "t1_mu = 25\n",
      "t1_sigma = 14\n",
      "t1_sample49_xbar = 29.6\n",
      "t1_sample49_se = t1_sigma / sqrt(49)\n",
      "\n",
      "t1_sample49_z = (t1_sample49_xbar - t1_mu) / t1_sample49_se\n",
      "\n",
      "print t1_sample49_z"
     ],
     "language": "python",
     "metadata": {},
     "outputs": [
      {
       "output_type": "stream",
       "stream": "stdout",
       "text": [
        "2.3\n"
       ]
      }
     ],
     "prompt_number": 9
    },
    {
     "cell_type": "code",
     "collapsed": false,
     "input": [
      "print 1 - .9893"
     ],
     "language": "python",
     "metadata": {},
     "outputs": [
      {
       "output_type": "stream",
       "stream": "stdout",
       "text": [
        "0.0107\n"
       ]
      }
     ],
     "prompt_number": 10
    },
    {
     "cell_type": "code",
     "collapsed": false,
     "input": [
      "print -3 / -0.8"
     ],
     "language": "python",
     "metadata": {},
     "outputs": [
      {
       "output_type": "stream",
       "stream": "stdout",
       "text": [
        "3.75\n"
       ]
      }
     ],
     "prompt_number": 11
    },
    {
     "cell_type": "code",
     "collapsed": false,
     "input": [
      "(1 / sqrt(16)) * -0.8"
     ],
     "language": "python",
     "metadata": {},
     "outputs": [
      {
       "output_type": "pyout",
       "prompt_number": 12,
       "text": [
        "-0.20000000000000001"
       ]
      }
     ],
     "prompt_number": 12
    },
    {
     "cell_type": "code",
     "collapsed": false,
     "input": [
      "sqrt(16)"
     ],
     "language": "python",
     "metadata": {},
     "outputs": [
      {
       "output_type": "pyout",
       "prompt_number": 13,
       "text": [
        "4.0"
       ]
      }
     ],
     "prompt_number": 13
    },
    {
     "cell_type": "code",
     "collapsed": false,
     "input": [
      "print 105 / 2"
     ],
     "language": "python",
     "metadata": {},
     "outputs": [
      {
       "output_type": "stream",
       "stream": "stdout",
       "text": [
        "52\n"
       ]
      }
     ],
     "prompt_number": 14
    },
    {
     "cell_type": "code",
     "collapsed": false,
     "input": [],
     "language": "python",
     "metadata": {},
     "outputs": []
    }
   ],
   "metadata": {}
  }
 ]
}