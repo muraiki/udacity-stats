{
 "metadata": {
  "name": ""
 },
 "nbformat": 3,
 "nbformat_minor": 0,
 "worksheets": [
  {
   "cells": [
    {
     "cell_type": "code",
     "collapsed": false,
     "input": [
      "# 95% confidence interval\n",
      "def ci(m, se, cv=1.96):\n",
      "    \"\"\" Returns a confidence interval tuple given the mean and standard error.\n",
      "        Optionally takes cv= arg for critical value.\n",
      "        Defaults to 95% confidence interval with critical value of 1.96 \"\"\"\n",
      "    return ((m - (se * cv)), (m + (se * cv)))\n"
     ],
     "language": "python",
     "metadata": {},
     "outputs": [],
     "prompt_number": 6
    },
    {
     "cell_type": "code",
     "collapsed": false,
     "input": [
      "ci(40, 1.01, cv=2.33)"
     ],
     "language": "python",
     "metadata": {},
     "outputs": [
      {
       "output_type": "pyout",
       "prompt_number": 7,
       "text": [
        "(37.6467, 42.3533)"
       ]
      }
     ],
     "prompt_number": 7
    },
    {
     "cell_type": "code",
     "collapsed": false,
     "input": [
      "from pandas import *\n",
      "\n",
      "er_data = read_csv(\"engagement_ratio.csv\", na_values=[\" \"])\n",
      "\n",
      "er_mean = er_data['er'].mean()\n",
      "er_sd = er_data['er'].std(ddof=1)\n",
      "\n",
      "print \"Engagement ratio mean: %f\" % er_mean\n",
      "print \"Engagement ratio sd: %f\" % er_sd"
     ],
     "language": "python",
     "metadata": {},
     "outputs": [
      {
       "output_type": "stream",
       "stream": "stdout",
       "text": [
        "Engagement ratio mean: 0.077266\n",
        "Engagement ratio sd: 0.107216\n"
       ]
      }
     ],
     "prompt_number": 3
    },
    {
     "cell_type": "code",
     "collapsed": false,
     "input": [
      "song_se = .107 / sqrt(20)\n",
      "\n",
      "print song_se"
     ],
     "language": "python",
     "metadata": {},
     "outputs": [
      {
       "output_type": "stream",
       "stream": "stdout",
       "text": [
        "0.0239259273592\n"
       ]
      }
     ],
     "prompt_number": 4
    },
    {
     "cell_type": "code",
     "collapsed": false,
     "input": [
      "song_ci = ci(0.13, 0.024)\n",
      "\n",
      "print song_ci"
     ],
     "language": "python",
     "metadata": {},
     "outputs": [
      {
       "output_type": "stream",
       "stream": "stdout",
       "text": [
        "(0.08296, 0.17704)\n"
       ]
      }
     ],
     "prompt_number": 5
    },
    {
     "cell_type": "code",
     "collapsed": false,
     "input": [
      "se_e = 0.64 / sqrt(20)\n",
      "\n",
      "se_l = .73 / sqrt(20)\n",
      "\n",
      "print se_e\n",
      "print se_l"
     ],
     "language": "python",
     "metadata": {},
     "outputs": [
      {
       "output_type": "stream",
       "stream": "stdout",
       "text": [
        "0.14310835056\n",
        "0.163232962357\n"
       ]
      }
     ],
     "prompt_number": 7
    },
    {
     "cell_type": "code",
     "collapsed": false,
     "input": [
      "z_e = (8.94 - 7.5) / se_e\n",
      "z_l = (8.35 - 8.2) / se_l\n",
      "\n",
      "print z_e\n",
      "print z_l\n"
     ],
     "language": "python",
     "metadata": {},
     "outputs": [
      {
       "output_type": "stream",
       "stream": "stdout",
       "text": [
        "10.0623058987\n",
        "0.918932045548\n"
       ]
      }
     ],
     "prompt_number": 9
    },
    {
     "cell_type": "code",
     "collapsed": false,
     "input": [
      "prob_z_e = 1 - 0\n",
      "prob_z_l = 1 - .8186\n",
      "\n",
      "print prob_z_e\n",
      "print prob_z_l"
     ],
     "language": "python",
     "metadata": {},
     "outputs": [
      {
       "output_type": "stream",
       "stream": "stdout",
       "text": [
        "1\n",
        "0.1814\n"
       ]
      }
     ],
     "prompt_number": 10
    },
    {
     "cell_type": "code",
     "collapsed": false,
     "input": [
      "# --- Problem Set Questions ---\n",
      "\n",
      "sample = np.array([8, 9, 12, 13, 14, 16])\n",
      "\n",
      "sm = sample.mean()\n",
      "\n",
      "ssd = sample.std()\n",
      "\n",
      "sse = 2.8 / sqrt(6)\n",
      "\n",
      "sci = ci(sm, sse)\n",
      "\n",
      "print sm\n",
      "print ssd\n",
      "print sse\n",
      "print sci"
     ],
     "language": "python",
     "metadata": {},
     "outputs": [
      {
       "output_type": "stream",
       "stream": "stdout",
       "text": [
        "12.0\n",
        "2.76887462097\n",
        "1.1430952133\n",
        "(9.75953338193432, 14.24046661806568)\n"
       ]
      }
     ],
     "prompt_number": 9
    },
    {
     "cell_type": "code",
     "collapsed": false,
     "input": [
      "chem_se = 2\n",
      "chem_z = (75 - 68) / chem_se\n",
      "chem_prob = 1 - .9987\n",
      "print \"Chem Z score for 75 pct: %f\" % chem_z\n",
      "print \"Percent probability of selecting mean 75 pct or greater: %f\" % chem_prob"
     ],
     "language": "python",
     "metadata": {},
     "outputs": [
      {
       "output_type": "stream",
       "stream": "stdout",
       "text": [
        "Chem Z score for 75 pct: 3.000000\n",
        "Percent probability of selecting mean 75 pct or greater: 0.001300\n"
       ]
      }
     ],
     "prompt_number": 21
    },
    {
     "cell_type": "code",
     "collapsed": false,
     "input": [
      "chem_ci = ci(75, chem_se)\n",
      "chem_me = abs((chem_ci[0] - chem_ci[1]) / 2.0)\n",
      "\n",
      "print \"95 pct confidence interval for mean 75: \" + str(chem_ci)\n",
      "print \"Margin of error: %f\" % chem_me"
     ],
     "language": "python",
     "metadata": {},
     "outputs": [
      {
       "output_type": "stream",
       "stream": "stdout",
       "text": [
        "95 pct confidence interval for mean 75: (71.08, 78.92)\n",
        "Margin of error: 3.920000\n"
       ]
      }
     ],
     "prompt_number": 25
    },
    {
     "cell_type": "code",
     "collapsed": false,
     "input": [
      "bp_ci_critvalue = 2.575\n",
      "bp_se = 18 / sqrt(9)\n",
      "\n",
      "print \"SE: %f\" % bp_se\n"
     ],
     "language": "python",
     "metadata": {},
     "outputs": [
      {
       "output_type": "stream",
       "stream": "stdout",
       "text": [
        "SE: 6.000000\n"
       ]
      }
     ],
     "prompt_number": 28
    },
    {
     "cell_type": "code",
     "collapsed": false,
     "input": [
      "# z-score of mean 175\n",
      "\n",
      "bp_z = (175 - 180) / bp_se\n",
      "\n",
      "print bp_z"
     ],
     "language": "python",
     "metadata": {},
     "outputs": [
      {
       "output_type": "stream",
       "stream": "stdout",
       "text": [
        "-0.833333333333\n"
       ]
      }
     ],
     "prompt_number": 30
    },
    {
     "cell_type": "code",
     "collapsed": false,
     "input": [
      "# margin of error\n",
      "\n",
      "bp_ci = ci(175, bp_se, cv=2.575)\n",
      "bp_me = (bp_ci[1] - bp_ci[0]) / 2.0\n",
      "\n",
      "print bp_ci\n",
      "print bp_me"
     ],
     "language": "python",
     "metadata": {},
     "outputs": [
      {
       "output_type": "stream",
       "stream": "stdout",
       "text": [
        "(159.55000000000001, 190.44999999999999)\n",
        "15.45\n"
       ]
      }
     ],
     "prompt_number": 33
    },
    {
     "cell_type": "code",
     "collapsed": false,
     "input": [],
     "language": "python",
     "metadata": {},
     "outputs": []
    }
   ],
   "metadata": {}
  }
 ]
}