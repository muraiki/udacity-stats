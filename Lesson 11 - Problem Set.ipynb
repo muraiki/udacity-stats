{
 "metadata": {
  "name": ""
 },
 "nbformat": 3,
 "nbformat_minor": 0,
 "worksheets": [
  {
   "cells": [
    {
     "cell_type": "code",
     "collapsed": false,
     "input": [
      "xbar = 3.8\n",
      "ybar = 2.1\n",
      "xn = 18\n",
      "yn = 25\n",
      "pv = 0.13\n",
      "\n",
      "dof = xn + yn - 2\n",
      "print dof\n",
      "\n",
      "se = sqrt((pv / xn) + (pv / yn))\n",
      "print se\n",
      "\n",
      "t = (xbar - ybar) / se\n",
      "print t"
     ],
     "language": "python",
     "metadata": {},
     "outputs": [
      {
       "output_type": "stream",
       "stream": "stdout",
       "text": [
        "41\n",
        "0.111455023315\n",
        "15.2527894161\n"
       ]
      }
     ],
     "prompt_number": 5
    },
    {
     "cell_type": "code",
     "collapsed": false,
     "input": [
      "x1bar = 12.0\n",
      "x2bar = 8.0\n",
      "x1n = 52.0\n",
      "x2n = 57.0\n",
      "pv = 5.1\n",
      "\n",
      "dof = x1n + x2n - 2\n",
      "\n",
      "se = sqrt((pv/x1n)+(pv/x2n))\n",
      "\n",
      "t = (x1bar - x2bar - 3) / se\n",
      "\n",
      "print dof\n",
      "print se\n",
      "print t"
     ],
     "language": "python",
     "metadata": {},
     "outputs": [
      {
       "output_type": "stream",
       "stream": "stdout",
       "text": [
        "107.0\n",
        "0.433071134212\n",
        "2.30908947977\n"
       ]
      }
     ],
     "prompt_number": 7
    },
    {
     "cell_type": "code",
     "collapsed": false,
     "input": [
      "x1bar = 35.8\n",
      "x2bar = 31.6\n",
      "x1n = 207\n",
      "x2n = 220\n",
      "ss1 = 481\n",
      "ss2 = 322\n",
      "\n",
      "dof = x1n + x2n - 2\n",
      "print dof\n",
      "\n",
      "# (SS1 + SS2) / (df1 + df2)\n",
      "pv = (ss1 + ss2) / float(dof)\n",
      "print pv\n",
      "\n",
      "se = sqrt((pv/x1n)+(pv/x2n))\n",
      "print se\n",
      "\n",
      "t = (35.8 - 31.6) / se\n",
      "print t"
     ],
     "language": "python",
     "metadata": {},
     "outputs": [
      {
       "output_type": "stream",
       "stream": "stdout",
       "text": [
        "425\n",
        "1.88941176471\n",
        "0.133100820284\n",
        "31.5550271669\n"
       ]
      }
     ],
     "prompt_number": 11
    },
    {
     "cell_type": "code",
     "collapsed": false,
     "input": [
      "x1bar = 9\n",
      "x2bar = 8\n",
      "se = 1.29\n",
      "t = (x1bar - x2bar) / se\n",
      "print t"
     ],
     "language": "python",
     "metadata": {},
     "outputs": [
      {
       "output_type": "stream",
       "stream": "stdout",
       "text": [
        "0.77519379845\n"
       ]
      }
     ],
     "prompt_number": 13
    },
    {
     "cell_type": "code",
     "collapsed": false,
     "input": [
      "x = [2.0,-3,5,4,7]\n",
      "y = [10.0,13,15,10]\n",
      "xbar = mean(x)\n",
      "ybar = mean(y)\n",
      "xss = sum([(a - xbar)**2 for a in x])\n",
      "yss = sum([(a - ybar)**2 for a in y])\n",
      "\n",
      "print xss\n",
      "print yss"
     ],
     "language": "python",
     "metadata": {},
     "outputs": [
      {
       "output_type": "stream",
       "stream": "stdout",
       "text": [
        "58.0\n",
        "18.0\n"
       ]
      }
     ],
     "prompt_number": 15
    },
    {
     "cell_type": "code",
     "collapsed": false,
     "input": [
      "dof = len(x) + len(y) - 2\n",
      "pv = (xss + yss) / dof\n",
      "print dof\n",
      "print pv"
     ],
     "language": "python",
     "metadata": {},
     "outputs": [
      {
       "output_type": "stream",
       "stream": "stdout",
       "text": [
        "7\n",
        "10.8571428571\n"
       ]
      }
     ],
     "prompt_number": 19
    },
    {
     "cell_type": "code",
     "collapsed": false,
     "input": [
      "se = sqrt((pv/len(x))+(pv/len(y)))\n",
      "print se"
     ],
     "language": "python",
     "metadata": {},
     "outputs": [
      {
       "output_type": "stream",
       "stream": "stdout",
       "text": [
        "2.21036519284\n"
       ]
      }
     ],
     "prompt_number": 17
    },
    {
     "cell_type": "code",
     "collapsed": false,
     "input": [
      "t = (xbar - ybar) / se\n",
      "print t"
     ],
     "language": "python",
     "metadata": {},
     "outputs": [
      {
       "output_type": "stream",
       "stream": "stdout",
       "text": [
        "-4.07172535523\n"
       ]
      }
     ],
     "prompt_number": 18
    },
    {
     "cell_type": "code",
     "collapsed": false,
     "input": [
      "dof = 18\n",
      "# two tailed 0.05 dof 18\n",
      "alpha = 2.101\n",
      "\n",
      "recessmean = 10\n",
      "prizemean = 7\n",
      "se = 0.94\n",
      "t = (recessmean - prizemean) / se\n",
      "print t"
     ],
     "language": "python",
     "metadata": {},
     "outputs": [
      {
       "output_type": "stream",
       "stream": "stdout",
       "text": [
        "3.1914893617\n"
       ]
      }
     ],
     "prompt_number": 20
    },
    {
     "cell_type": "code",
     "collapsed": false,
     "input": [
      "pooled_sd = 2.33\n",
      "cohensd = (recessmean - prizemean) / pooled_sd\n",
      "print cohensd"
     ],
     "language": "python",
     "metadata": {},
     "outputs": [
      {
       "output_type": "stream",
       "stream": "stdout",
       "text": [
        "1.28755364807\n"
       ]
      }
     ],
     "prompt_number": 25
    },
    {
     "cell_type": "code",
     "collapsed": false,
     "input": [
      "rsq = t**2 / (t**2 + dof)\n",
      "print rsq"
     ],
     "language": "python",
     "metadata": {},
     "outputs": [
      {
       "output_type": "stream",
       "stream": "stdout",
       "text": [
        "0.361376120266\n"
       ]
      }
     ],
     "prompt_number": 26
    },
    {
     "cell_type": "code",
     "collapsed": false,
     "input": [],
     "language": "python",
     "metadata": {},
     "outputs": []
    }
   ],
   "metadata": {}
  }
 ]
}