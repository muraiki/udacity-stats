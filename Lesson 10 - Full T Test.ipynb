{
 "metadata": {
  "name": ""
 },
 "nbformat": 3,
 "nbformat_minor": 0,
 "worksheets": [
  {
   "cells": [
    {
     "cell_type": "code",
     "collapsed": false,
     "input": [
      "import pandas as p\n",
      "import numpy as np\n",
      "from __future__ import division\n",
      "\n",
      "# Gallup poll said US families avg $151.00 / wk on groceries\n",
      "# Food coop is trying a cost saving program\n",
      "\n",
      "# For this example, we are told to assume that $151 is a population parameter\n",
      "mu = 151\n",
      "\n",
      "# Dependent variable is amt spent wk\n",
      "# Treatment: cost-saving program\n",
      "\n",
      "# Null hypothesis: Program does not reduce cost of food\n",
      "# H_0 = mu_program >= 151\n",
      "\n",
      "# Alternative hypothesis: Program reduced the cost of food\n",
      "# H_A = mu_program < 151\n",
      "\n",
      "# Test: One-tailed in negative direction\n",
      "\n",
      "n = 25\n",
      "dof = 24\n",
      "\n",
      "alpha = 0.5\n",
      "tcritical = -1.711\n",
      "\n",
      "samplesigma = 50\n",
      "sem = np.round(samplesigma / sqrt(25), 2)   # 10\n",
      "\n",
      "xbar = 126\n",
      "differenceOfMeans = xbar - mu   # -25\n",
      "\n",
      "t = np.round( differenceOfMeans / sem , 2 )  # -2.5\n",
      "\n",
      "# t falls in critical region p < .5\n",
      "# exact p value is .00985 or approx .01\n",
      "# --> t is statistically significant\n",
      "\n",
      "cohens_d = np.round( differenceOfMeans / samplesigma  , 2 )  # -0.5\n",
      "# xbar and mu are 1/2 standard deviation apart\n",
      "\n",
      "rsquared = np.round( (t ** 2) / ( (t ** 2) + dof) , 2 )  # .21\n",
      "# 21% of the difference between standard shoppers and those shopping at the coop\n",
      "# are due to cost saving differences\n",
      "\n",
      "# Compute 95% CI\n",
      "twoTailedAlpha = 2.064\n",
      "marginOfError = sem * twoTailedAlpha  # 20.64\n",
      "upper = xbar + marginOfError  # 146.64\n",
      "lower = xbar - marginOfError  # 105.36\n",
      "\n"
     ],
     "language": "python",
     "metadata": {},
     "outputs": [
      {
       "output_type": "stream",
       "stream": "stdout",
       "text": [
        "20.64\n"
       ]
      }
     ],
     "prompt_number": 10
    },
    {
     "cell_type": "code",
     "collapsed": false,
     "input": [],
     "language": "python",
     "metadata": {},
     "outputs": []
    }
   ],
   "metadata": {}
  }
 ]
}