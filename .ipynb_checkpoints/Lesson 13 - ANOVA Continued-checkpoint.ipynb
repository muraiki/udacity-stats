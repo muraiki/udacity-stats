{
 "metadata": {
  "name": ""
 },
 "nbformat": 3,
 "nbformat_minor": 0,
 "worksheets": [
  {
   "cells": [
    {
     "cell_type": "code",
     "collapsed": false,
     "input": [
      "import pandas as p\n",
      "import numpy as np\n",
      "import itertools as i\n",
      "from __future__ import division\n",
      "\n",
      "foodA = [2, 4, 3]\n",
      "foodB = [6, 5, 7]\n",
      "foodC = [8, 9, 10]\n",
      "foods = foodA + foodB + foodC\n",
      "\n",
      "foodGrandMean = np.mean(foods)\n",
      "print foodGrandMean"
     ],
     "language": "python",
     "metadata": {},
     "outputs": [
      {
       "output_type": "stream",
       "stream": "stdout",
       "text": [
        "6.0\n"
       ]
      }
     ],
     "prompt_number": 5
    },
    {
     "cell_type": "code",
     "collapsed": false,
     "input": [],
     "language": "python",
     "metadata": {},
     "outputs": [],
     "prompt_number": 3
    },
    {
     "cell_type": "code",
     "collapsed": false,
     "input": [],
     "language": "python",
     "metadata": {},
     "outputs": []
    }
   ],
   "metadata": {}
  }
 ]
}