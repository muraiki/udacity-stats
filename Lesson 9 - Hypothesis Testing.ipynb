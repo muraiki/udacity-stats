{
 "metadata": {
  "name": ""
 },
 "nbformat": 3,
 "nbformat_minor": 0,
 "worksheets": [
  {
   "cells": [
    {
     "cell_type": "code",
     "collapsed": false,
     "input": [
      "xbar_e = 7.13\n",
      "mu = 7.5\n",
      "sigma = 0.64\n",
      "se = sigma / sqrt(20)\n",
      "\n",
      "zscore_e = (7.13 - 7.5) / se\n",
      "\n",
      "print zscore_e"
     ],
     "language": "python",
     "metadata": {},
     "outputs": [
      {
       "output_type": "stream",
       "stream": "stdout",
       "text": [
        "-2.58545359898\n"
       ]
      }
     ],
     "prompt_number": 1
    },
    {
     "cell_type": "code",
     "collapsed": false,
     "input": [
      "from pandas import *\n",
      "\n",
      "data = read_csv(\"engagement_learning.csv\", na_values=[\" \"])\n",
      "\n",
      "e_mean = data[\"engagement\"].mean()\n",
      "e_sd = data[\"engagement\"].std(ddof=0)\n",
      "\n",
      "l_mean = data[\"learning\"].mean()\n",
      "l_sd = data[\"learning\"].std(ddof=0)\n",
      "\n",
      "print \"Engagement mean: %f\" % e_mean\n",
      "print \"Engagement sd: %f\" % e_sd\n",
      "print \"Learning mean: %f\" % l_mean\n",
      "print \"Learning sd: %f\" % l_sd"
     ],
     "language": "python",
     "metadata": {},
     "outputs": [
      {
       "output_type": "stream",
       "stream": "stdout",
       "text": [
        "Engagement mean: 7.470213\n",
        "Engagement sd: 2.412989\n",
        "Learning mean: 7.396596\n",
        "Learning sd: 2.531653\n"
       ]
      }
     ],
     "prompt_number": 2
    },
    {
     "cell_type": "code",
     "collapsed": false,
     "input": [
      "song_se = 2.41 / sqrt(30)\n",
      "song_z = (8.3 - 7.47) / song_se\n",
      "\n",
      "print \"Z score of intervention with sample size 30: %f\" % song_z"
     ],
     "language": "python",
     "metadata": {},
     "outputs": [
      {
       "output_type": "stream",
       "stream": "stdout",
       "text": [
        "Z score of intervention with sample size 30: 1.886347\n"
       ]
      }
     ],
     "prompt_number": 3
    },
    {
     "cell_type": "code",
     "collapsed": false,
     "input": [
      "song_se_50 = 2.41 / sqrt(50)\n",
      "song_z_50 = (8.3 - 7.47) / song_se_50\n",
      "\n",
      "print \"Z score of intervention with sample size 50: %f\" % song_z_50"
     ],
     "language": "python",
     "metadata": {},
     "outputs": [
      {
       "output_type": "stream",
       "stream": "stdout",
       "text": [
        "Z score of intervention with sample size 50: 2.435264\n"
       ]
      }
     ],
     "prompt_number": 4
    },
    {
     "cell_type": "code",
     "collapsed": false,
     "input": [
      "print 1 - .9927"
     ],
     "language": "python",
     "metadata": {},
     "outputs": [
      {
       "output_type": "stream",
       "stream": "stdout",
       "text": [
        "0.0073\n"
       ]
      }
     ],
     "prompt_number": 5
    },
    {
     "cell_type": "code",
     "collapsed": false,
     "input": [
      "song_actual_z = (7.8 - 7.47) / sqrt(30)\n",
      "print song_actual_z"
     ],
     "language": "python",
     "metadata": {},
     "outputs": [
      {
       "output_type": "stream",
       "stream": "stdout",
       "text": [
        "0.0602494813256\n"
       ]
      }
     ],
     "prompt_number": 8
    },
    {
     "cell_type": "code",
     "collapsed": false,
     "input": [],
     "language": "python",
     "metadata": {},
     "outputs": [],
     "prompt_number": 6
    }
   ],
   "metadata": {}
  }
 ]
}