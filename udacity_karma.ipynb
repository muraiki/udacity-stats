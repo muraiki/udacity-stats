{
 "metadata": {
  "name": "udacity karma"
 },
 "nbformat": 3,
 "nbformat_minor": 0,
 "worksheets": [
  {
   "cells": [
    {
     "cell_type": "code",
     "collapsed": false,
     "input": "from pandas import *\n\nkarmaData = read_csv(\"/Users/eferguson/Downloads/karma.csv\",na_values=[\" \"])\n\nprint karmaData['karma'].mean()",
     "language": "python",
     "metadata": {},
     "outputs": [
      {
       "output_type": "stream",
       "stream": "stdout",
       "text": "12.956615966\n"
      }
     ],
     "prompt_number": 9
    },
    {
     "cell_type": "code",
     "collapsed": false,
     "input": "print karmaData['karma'].std(ddof=1)",
     "language": "python",
     "metadata": {},
     "outputs": [
      {
       "output_type": "stream",
       "stream": "stdout",
       "text": "4.75770573444\n"
      }
     ],
     "prompt_number": 15
    }
   ],
   "metadata": {}
  }
 ]
}