{
 "metadata": {
  "name": ""
 },
 "nbformat": 3,
 "nbformat_minor": 0,
 "worksheets": [
  {
   "cells": [
    {
     "cell_type": "code",
     "collapsed": false,
     "input": [
      "import pandas as p\n",
      "import numpy as np\n",
      "from __future__ import division\n",
      "\n",
      "snapzi = [15, 12, 14, 11]\n",
      "irisa = [39, 45, 48, 60]\n",
      "lolamoon = [65, 45, 32, 38]\n",
      "\n",
      "smean = np.mean(snapzi)\n",
      "imean = np.mean(irisa)\n",
      "lmean = np.mean(lolamoon)\n",
      "\n",
      "grandmean = np.mean([smean, imean, lmean])\n",
      "\n",
      "print smean\n",
      "print imean\n",
      "print lmean\n",
      "print grandmean"
     ],
     "language": "python",
     "metadata": {},
     "outputs": [
      {
       "output_type": "stream",
       "stream": "stdout",
       "text": [
        "13.0\n",
        "48.0\n",
        "45.0\n",
        "35.3333333333\n"
       ]
      }
     ],
     "prompt_number": 1
    },
    {
     "cell_type": "code",
     "collapsed": false,
     "input": [
      "allsamples = []\n",
      "for each in [snapzi, irisa, lolamoon]:\n",
      "    allsamples.extend(each)\n",
      "\n",
      "N = len(allsamples)\n",
      "\n",
      "samplesize = 4\n",
      "samplemeans = [smean, imean, lmean]\n",
      "    \n",
      "SSbetween = samplesize * sum([(x - grandmean)**2 for x in samplemeans])\n",
      "\n",
      "print SSbetween\n"
     ],
     "language": "python",
     "metadata": {},
     "outputs": [
      {
       "output_type": "stream",
       "stream": "stdout",
       "text": [
        "3010.66666667\n"
       ]
      }
     ],
     "prompt_number": 2
    },
    {
     "cell_type": "code",
     "collapsed": false,
     "input": [
      "def sswithin(samples):\n",
      "    \"\"\"\n",
      "    Takes a list of lists of samples, returns the sum of squares for within-group\n",
      "    \"\"\"\n",
      "    results = []\n",
      "    \n",
      "    for sample in samples:\n",
      "        sample_mean = np.mean(sample)\n",
      "        sum_of_squares = [(each - sample_mean)**2 for each in sample]\n",
      "        results.append(sum(sum_of_squares))\n",
      "    \n",
      "    return sum(results)\n",
      "\n",
      "        \n",
      "ssw = sswithin([snapzi, irisa, lolamoon])\n",
      "print ssw"
     ],
     "language": "python",
     "metadata": {},
     "outputs": [
      {
       "output_type": "stream",
       "stream": "stdout",
       "text": [
        "862.0\n"
       ]
      }
     ],
     "prompt_number": 3
    },
    {
     "cell_type": "code",
     "collapsed": false,
     "input": [
      "ss_b_dof = 2  # snapzi, irisa, lolamoon = 3 - 1 = 2\n",
      "ss_w_dof = 9  # each group has 4 samples - 3 groups = 9"
     ],
     "language": "python",
     "metadata": {},
     "outputs": [],
     "prompt_number": 4
    },
    {
     "cell_type": "code",
     "collapsed": false,
     "input": [
      "# mean squares\n",
      "ms_between = SSbetween / ss_b_dof\n",
      "ms_within = ssw / ss_w_dof\n",
      "\n",
      "print ms_between\n",
      "print ms_within"
     ],
     "language": "python",
     "metadata": {},
     "outputs": [
      {
       "output_type": "stream",
       "stream": "stdout",
       "text": [
        "1505.33333333\n",
        "95.7777777778\n"
       ]
      }
     ],
     "prompt_number": 6
    },
    {
     "cell_type": "code",
     "collapsed": false,
     "input": [
      "f = ms_between / ms_within\n",
      "print f"
     ],
     "language": "python",
     "metadata": {},
     "outputs": [
      {
       "output_type": "stream",
       "stream": "stdout",
       "text": [
        "15.716937355\n"
       ]
      }
     ],
     "prompt_number": 7
    },
    {
     "cell_type": "code",
     "collapsed": false,
     "input": [
      "# alpha 0.05 f-critical level: 4.2565\n"
     ],
     "language": "python",
     "metadata": {},
     "outputs": []
    }
   ],
   "metadata": {}
  }
 ]
}