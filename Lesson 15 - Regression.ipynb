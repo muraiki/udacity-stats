{
 "metadata": {
  "name": ""
 },
 "nbformat": 3,
 "nbformat_minor": 0,
 "worksheets": [
  {
   "cells": [
    {
     "cell_type": "code",
     "collapsed": false,
     "input": [
      "import numpy as np\n",
      "import pandas as p\n",
      "import scipy.stats as stats\n",
      "\n",
      "flightcostdata = p.read_csv(\"flightcosts-lesson15.csv\", na_values=[\" \"])\n",
      "distance = flightcostdata[\"Distance (miles)\"]\n",
      "cost = flightcostdata[\"Cost (USD)\"]\n",
      "\n",
      "plt.plot(distance, cost, \"ro\")\n"
     ],
     "language": "python",
     "metadata": {},
     "outputs": [
      {
       "metadata": {},
       "output_type": "pyout",
       "prompt_number": 5,
       "text": [
        "[<matplotlib.lines.Line2D at 0x10b0a7c10>]"
       ]
      },
      {
       "metadata": {},
       "output_type": "display_data",
       "png": "[encoded data removed]",
       "text": [
        "<matplotlib.figure.Figure at 0x10b075ed0>"
       ]
      }
     ],
     "prompt_number": 5
    },
    {
     "cell_type": "code",
     "collapsed": false,
     "input": [
      "flightr, flightr_p = stats.pearsonr(distance, cost)\n",
      "print flightr\n",
      "print flightr_p"
     ],
     "language": "python",
     "metadata": {},
     "outputs": [
      {
       "output_type": "stream",
       "stream": "stdout",
       "text": [
        "0.909003649354\n",
        "0.000684006473074\n"
       ]
      }
     ],
     "prompt_number": 6
    },
    {
     "cell_type": "code",
     "collapsed": false,
     "input": [
      "distance_sd = distance.std(ddof=1)\n",
      "cost_sd = cost.std(ddof=1)\n",
      "flight_b = flightr * (cost_sd / distance_sd)\n",
      "print distance_sd\n",
      "print cost_sd\n",
      "print flight_b"
     ],
     "language": "python",
     "metadata": {},
     "outputs": [
      {
       "output_type": "stream",
       "stream": "stdout",
       "text": [
        "2315.33682455\n",
        "508.187002288\n",
        "0.199514746509\n"
       ]
      }
     ],
     "prompt_number": 7
    },
    {
     "cell_type": "code",
     "collapsed": false,
     "input": [
      "flight_xbar = distance.mean()\n",
      "flight_ybar = cost.mean()\n",
      "flight_meanpoint = (flight_xbar, flight_ybar)\n",
      "print flight_meanpoint"
     ],
     "language": "python",
     "metadata": {},
     "outputs": [
      {
       "output_type": "stream",
       "stream": "stdout",
       "text": [
        "(2601.1111111111113, 680.34777777777776)\n"
       ]
      }
     ],
     "prompt_number": 10
    },
    {
     "cell_type": "code",
     "collapsed": false,
     "input": [
      "# Udacity grader expects flight_b rounded to 0.2\n",
      "flight_yintercept = flight_ybar - 0.2 * flight_xbar\n",
      "print flight_yintercept"
     ],
     "language": "python",
     "metadata": {},
     "outputs": [
      {
       "output_type": "stream",
       "stream": "stdout",
       "text": [
        "160.125555556\n"
       ]
      }
     ],
     "prompt_number": 15
    },
    {
     "cell_type": "code",
     "collapsed": false,
     "input": [
      "# y = 0.2x + 160.13\n",
      "\n",
      "def flightY(miles):\n",
      "    return 0.2 * miles + 160.13\n",
      "\n",
      "print flightY(4000)"
     ],
     "language": "python",
     "metadata": {},
     "outputs": [
      {
       "output_type": "stream",
       "stream": "stdout",
       "text": [
        "960.13\n"
       ]
      }
     ],
     "prompt_number": 16
    },
    {
     "cell_type": "code",
     "collapsed": false,
     "input": [
      "print flightY(4000) - flightY(3999)"
     ],
     "language": "python",
     "metadata": {},
     "outputs": [
      {
       "output_type": "stream",
       "stream": "stdout",
       "text": [
        "0.2\n"
       ]
      }
     ],
     "prompt_number": 17
    },
    {
     "cell_type": "code",
     "collapsed": false,
     "input": [
      "print (500 - 160.13) / 0.2"
     ],
     "language": "python",
     "metadata": {},
     "outputs": [
      {
       "output_type": "stream",
       "stream": "stdout",
       "text": [
        "1699.35\n"
       ]
      }
     ],
     "prompt_number": 19
    },
    {
     "cell_type": "code",
     "collapsed": false,
     "input": [
      "def drink(religiosity, selfesteem):\n",
      "    return 2.764 + -0.149 * religiosity + 0.093 * selfesteem\n",
      "\n",
      "print drink(5, 7)"
     ],
     "language": "python",
     "metadata": {},
     "outputs": [
      {
       "output_type": "stream",
       "stream": "stdout",
       "text": [
        "2.67\n"
       ]
      }
     ],
     "prompt_number": 20
    },
    {
     "cell_type": "code",
     "collapsed": false,
     "input": [],
     "language": "python",
     "metadata": {},
     "outputs": []
    }
   ],
   "metadata": {}
  }
 ]
}