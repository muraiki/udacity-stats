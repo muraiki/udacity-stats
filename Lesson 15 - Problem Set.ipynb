{
 "metadata": {
  "name": ""
 },
 "nbformat": 3,
 "nbformat_minor": 0,
 "worksheets": [
  {
   "cells": [
    {
     "cell_type": "code",
     "collapsed": false,
     "input": [
      "import numpy as np\n",
      "import pandas as p\n",
      "import scipy.stats as stats\n",
      "\n",
      "stemdata = p.read_csv(\"stemcells-lesson15.csv\", na_values=[\" \"])\n",
      "\n",
      "stemcells = stemdata[\"Number of stem cells\"]\n",
      "activity = stemdata[\"Photoreceptor activity\"]"
     ],
     "language": "python",
     "metadata": {},
     "outputs": [],
     "prompt_number": 5
    },
    {
     "cell_type": "code",
     "collapsed": false,
     "input": [
      "stem_pearsonr, stem_pearsonr_p = stats.pearsonr(number_stemcells, photoreceptor_activity)\n",
      "stemcells_sd = stemcells.std(ddof=1)\n",
      "activity_sd = activity.std(ddof=1)\n",
      "\n",
      "stem_slope = stem_pearsonr * (activity_sd / stemcells_sd)\n",
      "print stem_slope"
     ],
     "language": "python",
     "metadata": {},
     "outputs": [
      {
       "output_type": "stream",
       "stream": "stdout",
       "text": [
        "0.572251176046\n"
       ]
      }
     ],
     "prompt_number": 6
    },
    {
     "cell_type": "code",
     "collapsed": false,
     "input": [
      "stem_rsq = stem_pearsonr ** 2\n",
      "print stem_rsq"
     ],
     "language": "python",
     "metadata": {},
     "outputs": [
      {
       "output_type": "stream",
       "stream": "stdout",
       "text": [
        "0.873224893461\n"
       ]
      }
     ],
     "prompt_number": 7
    },
    {
     "cell_type": "code",
     "collapsed": false,
     "input": [
      "stemcells_mean = stemcells.mean()\n",
      "activity_mean = activity.mean()\n",
      "\n",
      "stem_yint = -stem_slope * stemcells_mean + activity_mean\n",
      "print stem_yint"
     ],
     "language": "python",
     "metadata": {},
     "outputs": [
      {
       "output_type": "stream",
       "stream": "stdout",
       "text": [
        "-2.24871659737\n"
       ]
      }
     ],
     "prompt_number": 9
    },
    {
     "cell_type": "code",
     "collapsed": false,
     "input": [
      "# regression line equation: y = 0.57 * x - 2.25\n",
      "# using rounded values since that's what udacity likes\n",
      "\n",
      "def stemcells_for_activity(y):\n",
      "    \"\"\"\n",
      "    Returns how many stem cells would be required for a given activity level\n",
      "    \"\"\"\n",
      "    return (y + 2.25) / 0.57\n",
      "\n",
      "print stemcells_for_activity(70)"
     ],
     "language": "python",
     "metadata": {},
     "outputs": [
      {
       "output_type": "stream",
       "stream": "stdout",
       "text": [
        "126.754385965\n"
       ]
      }
     ],
     "prompt_number": 11
    },
    {
     "cell_type": "code",
     "collapsed": false,
     "input": [
      "def alcohol_for_caffeine(dayscaf):\n",
      "    \"\"\"\n",
      "    Returns how many days expected alcohol consumption for given days caffeine consumption\n",
      "    \"\"\"\n",
      "    return 2.35 + 0.05 * dayscaf\n",
      "\n",
      "alcohol = [alcohol_for_caffeine(x) for x in [10,5,0,20]]\n",
      "print alcohol"
     ],
     "language": "python",
     "metadata": {},
     "outputs": [
      {
       "output_type": "stream",
       "stream": "stdout",
       "text": [
        "[2.85, 2.6, 2.35, 3.35]\n"
       ]
      }
     ],
     "prompt_number": 13
    },
    {
     "cell_type": "code",
     "collapsed": false,
     "input": [
      "alcohol_se = 3.50\n",
      "for each in alcohol:\n",
      "    print (each - alcohol_se, each + alcohol_se)"
     ],
     "language": "python",
     "metadata": {},
     "outputs": [
      {
       "output_type": "stream",
       "stream": "stdout",
       "text": [
        "(-0.6499999999999999, 6.35)\n",
        "(-0.8999999999999999, 6.1)\n",
        "(-1.15, 5.85)\n",
        "(-0.1499999999999999, 6.85)\n"
       ]
      }
     ],
     "prompt_number": 14
    },
    {
     "cell_type": "code",
     "collapsed": false,
     "input": [],
     "language": "python",
     "metadata": {},
     "outputs": []
    }
   ],
   "metadata": {}
  }
 ]
}