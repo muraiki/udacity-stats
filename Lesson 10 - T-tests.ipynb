{
 "metadata": {
  "name": ""
 },
 "nbformat": 3,
 "nbformat_minor": 0,
 "worksheets": [
  {
   "cells": [
    {
     "cell_type": "code",
     "collapsed": false,
     "input": [
      "from pandas import *\n",
      "\n",
      "data = read_csv(\"beakwidth.csv\", na_values=[\" \"])\n",
      "\n",
      "beak_mu = 6.07\n",
      "beak_n = 500\n",
      "beak_xbar = data[\"beakwidth\"].mean()\n",
      "beak_sd = data[\"beakwidth\"].std(ddof=1)\n",
      "\n",
      "print \"xbar = %f\" % beak_xbar\n",
      "print \"standard deviation = %f\" % beak_sd"
     ],
     "language": "python",
     "metadata": {},
     "outputs": [
      {
       "output_type": "stream",
       "stream": "stdout",
       "text": [
        "xbar = 6.469600\n",
        "standard deviation = 0.396118\n"
       ]
      }
     ],
     "prompt_number": 2
    },
    {
     "cell_type": "code",
     "collapsed": false,
     "input": [
      "# beak_mu is our null hypothesis; average beak width of 6.07\n",
      "# beak_xbar is from our sample to see if it causes us to reject null hypothesis\n",
      "# (if it falls in the critical region for our selected alpha value)\n",
      "\n",
      "beak_t = (beak_xbar - beak_mu) / (beak_sd / sqrt(beak_n))\n",
      "print beak_t"
     ],
     "language": "python",
     "metadata": {},
     "outputs": [
      {
       "output_type": "stream",
       "stream": "stdout",
       "text": [
        "22.5572234675\n"
       ]
      }
     ],
     "prompt_number": 2
    },
    {
     "cell_type": "code",
     "collapsed": false,
     "input": [
      "p_sample = numpy.array([5, 19, 11, 23, 12, 7, 3, 21])\n",
      "p_mean = p_sample.mean()\n",
      "p_null_mu = 10\n",
      "p_sd = p_sample.std(ddof=1)\n",
      "p_n = len(p_sample)\n",
      "\n",
      "p_t = (p_mean - p_null_mu) / (p_sd / sqrt(p_n))\n",
      "\n",
      "print p_t"
     ],
     "language": "python",
     "metadata": {},
     "outputs": [
      {
       "output_type": "stream",
       "stream": "stdout",
       "text": [
        "0.977461894334\n"
       ]
      }
     ],
     "prompt_number": 4
    },
    {
     "cell_type": "code",
     "collapsed": false,
     "input": [
      "rent_xbar = 1700.0\n",
      "rent_sd = 200.0\n",
      "rent_mu_null = 1830.0\n",
      "rent_n = 25.0\n",
      "\n",
      "rent_t = (rent_xbar - rent_mu_null) / (rent_sd / sqrt(rent_n))\n",
      "\n",
      "print rent_t"
     ],
     "language": "python",
     "metadata": {},
     "outputs": [
      {
       "output_type": "stream",
       "stream": "stdout",
       "text": [
        "-3.25\n"
       ]
      }
     ],
     "prompt_number": 8
    },
    {
     "cell_type": "code",
     "collapsed": false,
     "input": [
      "rent_cohens_d = (rent_xbar - rent_mu_null) / rent_sd\n",
      "print rent_cohens_d"
     ],
     "language": "python",
     "metadata": {},
     "outputs": [
      {
       "output_type": "stream",
       "stream": "stdout",
       "text": [
        "-0.65\n"
       ]
      }
     ],
     "prompt_number": 9
    },
    {
     "cell_type": "code",
     "collapsed": false,
     "input": [
      "# CI = (mean - (se * cv)), (mean + (se * cv))\n",
      "# with each tail at 2.5%, the area in the middle is 95%\n",
      "# so to get a 95% CI we find the actual values at +/- 2.064 (2.064 is the critical value for 2.5%)\n",
      "\n",
      "rent_se = 200 / sqrt(rent_n)\n",
      "rent_ci = ((rent_xbar - (rent_se * 2.064)), (rent_xbar + (rent_se * 2.064)))\n",
      "\n",
      "print str(rent_ci)"
     ],
     "language": "python",
     "metadata": {},
     "outputs": [
      {
       "output_type": "stream",
       "stream": "stdout",
       "text": [
        "(1617.4400000000001, 1782.5599999999999)\n"
       ]
      }
     ],
     "prompt_number": 11
    },
    {
     "cell_type": "code",
     "collapsed": false,
     "input": [
      "rent_marginerror_99dof = 1.984 * (200 / sqrt(100))\n",
      "\n",
      "print rent_marginerror_99dof"
     ],
     "language": "python",
     "metadata": {},
     "outputs": [
      {
       "output_type": "stream",
       "stream": "stdout",
       "text": [
        "39.68\n"
       ]
      }
     ],
     "prompt_number": 13
    },
    {
     "cell_type": "code",
     "collapsed": false,
     "input": [
      "from __future__ import division\n",
      "\n",
      "kbddata = read_csv(\"Keyboards_-_Lesson_10_-_Sheet1.csv\", na_values=[\" \"])\n",
      "\n",
      "qwerty = kbddata[\"QWERTY errors\"]\n",
      "alpha = kbddata[\"Alphabetical errors\"]\n",
      "\n",
      "qwertyMean = qwerty.mean()\n",
      "alphaMean = alpha.mean()\n",
      "\n",
      "print \"QWERTY mean: %f\" % qwertyMean\n",
      "print \"alpha mean: %f\" % alphaMean\n",
      "\n",
      "kbddiffs = []\n",
      "for x, y in zip(qwerty.tolist(), alpha.tolist()):\n",
      "    # print \"subtracting: %f - %f\" % (x, y)\n",
      "    kbddiffs.append(x - y)\n",
      "\n",
      "# Average of the differences\n",
      "kbd_avg_diff = sum(kbddiffs) / len(kbddiffs)\n",
      "print \"Sum of differences: %f\" % sum(kbddiffs)\n",
      "print \"Average difference: %f\" % kbd_avg_diff\n",
      "\n",
      "kbd_var = sum([(x - kbd_avg_diff)** 2 for x in kbddiffs]) / (len(kbddiffs) - 1)\n",
      "kbd_s = sqrt(kbd_var)\n",
      "\n",
      "print \"Keyboard standard deviation of differences: %f\" % kbd_s\n",
      "    "
     ],
     "language": "python",
     "metadata": {},
     "outputs": [
      {
       "output_type": "stream",
       "stream": "stdout",
       "text": [
        "QWERTY mean: 5.080000\n",
        "alpha mean: 7.800000\n",
        "Sum of differences: -68.000000\n",
        "Length of list of diffs: 25.000000\n",
        "Average difference: -2.720000\n",
        "Keyboard standard deviation of differences: 3.691432\n"
       ]
      }
     ],
     "prompt_number": 24
    },
    {
     "cell_type": "code",
     "collapsed": false,
     "input": [
      "kbd_t = -2.72 / (kbd_s / sqrt(len(kbddiffs)))\n",
      "\n",
      "print \"T statistic for keyboard error differences: %f\" % kbd_t"
     ],
     "language": "python",
     "metadata": {},
     "outputs": [
      {
       "output_type": "stream",
       "stream": "stdout",
       "text": [
        "T statistic for keyboard error differences: -3.684208\n"
       ]
      }
     ],
     "prompt_number": 28
    },
    {
     "cell_type": "code",
     "collapsed": false,
     "input": [
      "kbd_cohens_d = -2.72 / 3.69\n",
      "print \"Cohen's D for kbd error differences: %f\" % kbd_cohens_d"
     ],
     "language": "python",
     "metadata": {},
     "outputs": [
      {
       "output_type": "stream",
       "stream": "stdout",
       "text": [
        "Cohen's D for kbd error differences: -0.737127\n"
       ]
      }
     ],
     "prompt_number": 30
    },
    {
     "cell_type": "code",
     "collapsed": false,
     "input": [
      "# 2.064 is the t-critical value for a 95% CI with 24 degrees of freedom\n",
      "# https://s3.amazonaws.com/udacity-hosted-downloads/t-table.jpg\n",
      "kbd_ci_plus = kbd_avg_diff + ((kbd_s / sqrt(len(kbddiffs))) * 2.064)\n",
      "kbd_ci_minus = kbd_avg_diff - ((kbd_s / sqrt(len(kbddiffs))) * 2.064)\n",
      "\n",
      "print \"Kbd error 95%% CI: (%f, %f)\" % (kbd_ci_minus, kbd_ci_plus)\n"
     ],
     "language": "python",
     "metadata": {},
     "outputs": [
      {
       "output_type": "stream",
       "stream": "stdout",
       "text": [
        "Kbd error 95% CI: (-4.243823, -1.196177)\n"
       ]
      }
     ],
     "prompt_number": 35
    },
    {
     "cell_type": "code",
     "collapsed": false,
     "input": [
      "print 4.0 / 24"
     ],
     "language": "python",
     "metadata": {},
     "outputs": [
      {
       "output_type": "stream",
       "stream": "stdout",
       "text": [
        "0.166666666667\n"
       ]
      }
     ],
     "prompt_number": 2
    },
    {
     "cell_type": "code",
     "collapsed": false,
     "input": [],
     "language": "python",
     "metadata": {},
     "outputs": []
    }
   ],
   "metadata": {}
  }
 ]
}