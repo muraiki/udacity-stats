{
 "metadata": {
  "name": ""
 },
 "nbformat": 3,
 "nbformat_minor": 0,
 "worksheets": [
  {
   "cells": [
    {
     "cell_type": "code",
     "collapsed": false,
     "input": [
      "import numpy as np\n",
      "import pandas as p\n",
      "import scipy.stats as stats\n",
      "\n",
      "dreams = p.read_csv(\"dreams-lesson14.csv\", na_values=[\" \"])\n",
      "\n",
      "dwritten = dreams[\"written\"]\n",
      "dremembered = dreams[\"remembered\"]\n",
      "\n",
      "dpearsonr, _ = stats.pearsonr(dwritten, dremembered)\n",
      "print dpearsonr"
     ],
     "language": "python",
     "metadata": {},
     "outputs": [
      {
       "output_type": "stream",
       "stream": "stdout",
       "text": [
        "0.954144932618\n"
       ]
      }
     ],
     "prompt_number": 3
    },
    {
     "cell_type": "code",
     "collapsed": false,
     "input": [
      "gestlong = p.read_csv(\"gestation-lesson14.csv\", na_values=[\" \"])\n",
      "\n",
      "gest = gestlong[\"Gestation (days)\"]\n",
      "longevity = gestlong[\"Longevity (years)\"]\n",
      "\n",
      "plt.plot(gest, longevity, \"ro\")"
     ],
     "language": "python",
     "metadata": {},
     "outputs": [
      {
       "metadata": {},
       "output_type": "pyout",
       "prompt_number": 6,
       "text": [
        "[<matplotlib.lines.Line2D at 0x1363ce10>]"
       ]
      },
      {
       "metadata": {},
       "output_type": "display_data",
       "png": "[encoded data removed]",
       "text": [
        "<matplotlib.figure.Figure at 0x13686e80>"
       ]
      }
     ],
     "prompt_number": 6
    },
    {
     "cell_type": "code",
     "collapsed": false,
     "input": [
      "gestlong_pearsonr, gestlong_pearsonr_p = stats.pearsonr(gest, longevity)\n",
      "print gestlong_pearsonr"
     ],
     "language": "python",
     "metadata": {},
     "outputs": [
      {
       "output_type": "stream",
       "stream": "stdout",
       "text": [
        "0.589312693933\n"
       ]
      }
     ],
     "prompt_number": 9
    },
    {
     "cell_type": "code",
     "collapsed": false,
     "input": [
      "print gestlong_pearsonr**2"
     ],
     "language": "python",
     "metadata": {},
     "outputs": [
      {
       "output_type": "stream",
       "stream": "stdout",
       "text": [
        "0.34728945123\n"
       ]
      }
     ],
     "prompt_number": 10
    },
    {
     "cell_type": "code",
     "collapsed": false,
     "input": [
      "print gestlong_pearsonr_p"
     ],
     "language": "python",
     "metadata": {},
     "outputs": [
      {
       "output_type": "stream",
       "stream": "stdout",
       "text": [
        "6.30989508781e-05\n"
       ]
      }
     ],
     "prompt_number": 11
    },
    {
     "cell_type": "code",
     "collapsed": false,
     "input": [],
     "language": "python",
     "metadata": {},
     "outputs": []
    }
   ],
   "metadata": {}
  }
 ]
}