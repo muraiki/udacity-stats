{
 "metadata": {
  "name": ""
 },
 "nbformat": 3,
 "nbformat_minor": 0,
 "worksheets": [
  {
   "cells": [
    {
     "cell_type": "code",
     "collapsed": false,
     "input": [
      "import pandas as p\n",
      "import numpy as np\n",
      "from __future__ import division\n",
      "\n",
      "def sswithin(samples):\n",
      "    \"\"\"\n",
      "    Takes a list of lists of samples, returns the sum of squares for within-group\n",
      "    \"\"\"\n",
      "    results = []\n",
      "    \n",
      "    for sample in samples:\n",
      "        intermediate_result = []\n",
      "        sample_mean = np.mean(sample)\n",
      "        \n",
      "        for each in sample:\n",
      "            intermediate_result.append((each - sample_mean)**2)\n",
      "        results.append(sum(intermediate_result))\n",
      "    \n",
      "    return sum(results)\n",
      "\n",
      "def samplemeans(samples):\n",
      "    samplemeans = []\n",
      "    \n",
      "    for sample in samples:\n",
      "        samplemeans.append(np.mean(sample))\n",
      "    \n",
      "    return samplemeans  \n",
      "\n",
      "def ssbetween(samples):\n",
      "    \"\"\"\n",
      "    Returns the sum of squares for a list of lists of samples of equal length\n",
      "    \"\"\"\n",
      "    smeans = samplemeans(samples)\n",
      "    grandmean = np.mean(smeans)\n",
      "    return len(samples[0]) * sum([(x - grandmean)**2 for x in smeans])\n",
      "\n"
     ],
     "language": "python",
     "metadata": {},
     "outputs": [],
     "prompt_number": 1
    },
    {
     "cell_type": "code",
     "collapsed": false,
     "input": [
      "single = [8, 7, 10, 6, 9]\n",
      "twin = [4, 6, 7, 4, 9]\n",
      "triplet = [4, 4, 7, 2, 3]\n",
      "\n",
      "ssb = ssbetween([single, twin, triplet])\n",
      "print ssb"
     ],
     "language": "python",
     "metadata": {},
     "outputs": [
      {
       "output_type": "stream",
       "stream": "stdout",
       "text": [
        "40.0\n"
       ]
      }
     ],
     "prompt_number": 2
    },
    {
     "cell_type": "code",
     "collapsed": false,
     "input": [
      "ssw = sswithin([single, twin, triplet])\n",
      "print ssw"
     ],
     "language": "python",
     "metadata": {},
     "outputs": [
      {
       "output_type": "stream",
       "stream": "stdout",
       "text": [
        "42.0\n"
       ]
      }
     ],
     "prompt_number": 3
    },
    {
     "cell_type": "code",
     "collapsed": false,
     "input": [
      "dfb = 2\n",
      "dfw = 12"
     ],
     "language": "python",
     "metadata": {},
     "outputs": [],
     "prompt_number": 4
    },
    {
     "cell_type": "code",
     "collapsed": false,
     "input": [
      "meansquaresb = ssb / dfb\n",
      "meansquaresw = ssw / dfw\n",
      "print meansquaresb\n",
      "print meansquaresw"
     ],
     "language": "python",
     "metadata": {},
     "outputs": [
      {
       "output_type": "stream",
       "stream": "stdout",
       "text": [
        "20.0\n",
        "3.5\n"
       ]
      }
     ],
     "prompt_number": 5
    },
    {
     "cell_type": "code",
     "collapsed": false,
     "input": [
      "f = meansquaresb /meansquaresw\n",
      "print f"
     ],
     "language": "python",
     "metadata": {},
     "outputs": [
      {
       "output_type": "stream",
       "stream": "stdout",
       "text": [
        "5.71428571429\n"
       ]
      }
     ],
     "prompt_number": 6
    },
    {
     "cell_type": "code",
     "collapsed": false,
     "input": [
      "# alpha 0.05 2 and 12 dof\n",
      "alpha = 3.8853"
     ],
     "language": "python",
     "metadata": {},
     "outputs": []
    }
   ],
   "metadata": {}
  }
 ]
}