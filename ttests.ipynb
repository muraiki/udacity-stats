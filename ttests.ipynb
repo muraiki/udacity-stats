{
 "metadata": {
  "name": "Lesson 10 - t-Tests"
 },
 "nbformat": 3,
 "nbformat_minor": 0,
 "worksheets": [
  {
   "cells": [
    {
     "cell_type": "code",
     "collapsed": false,
     "input": [
      "from pandas import *\n",
      "\n",
      "data = read_csv(\"beakwidth.csv\", na_values=[\" \"])\n",
      "\n",
      "beak_mu = 6.07\n",
      "beak_n = 500\n",
      "beak_xbar = data[\"beakwidth\"].mean()\n",
      "beak_sd = data[\"beakwidth\"].std(ddof=1)\n",
      "\n",
      "print \"xbar = %f\" % beak_xbar\n",
      "print \"standard deviation = %f\" % beak_sd"
     ],
     "language": "python",
     "metadata": {},
     "outputs": [
      {
       "output_type": "stream",
       "stream": "stdout",
       "text": [
        "xbar = 6.469600\n",
        "standard deviation = 0.396118\n"
       ]
      }
     ],
     "prompt_number": 1
    },
    {
     "cell_type": "code",
     "collapsed": false,
     "input": [
      "beak_t = (beak_xbar - beak_mu) / (beak_sd / sqrt(beak_n))\n",
      "print beak_t"
     ],
     "language": "python",
     "metadata": {},
     "outputs": [
      {
       "output_type": "stream",
       "stream": "stdout",
       "text": [
        "22.5572234675\n"
       ]
      }
     ],
     "prompt_number": 2
    },
    {
     "cell_type": "code",
     "collapsed": false,
     "input": [
      "p_sample = numpy.array([5, 19, 11, 23, 12, 7, 3, 21])\n",
      "p_mean = p_sample.mean()\n",
      "p_null_mu = 10\n",
      "p_sd = p_sample.std(ddof=1)\n",
      "p_n = len(p_sample)\n",
      "\n",
      "p_t = (p_mean - p_null_mu) / (p_sd / sqrt(p_n))\n",
      "\n",
      "print p_t"
     ],
     "language": "python",
     "metadata": {},
     "outputs": [
      {
       "output_type": "stream",
       "stream": "stdout",
       "text": [
        "0.977461894334\n"
       ]
      }
     ],
     "prompt_number": 4
    },
    {
     "cell_type": "code",
     "collapsed": false,
     "input": [
      "rent_xbar = 1700.0\n",
      "rent_sd = 200.0\n",
      "rent_mu_null = 1830.0\n",
      "rent_n = 25.0\n",
      "\n",
      "rent_t = (rent_xbar - rent_mu_null) / (rent_sd / sqrt(rent_n))\n",
      "\n",
      "print rent_t"
     ],
     "language": "python",
     "metadata": {},
     "outputs": [
      {
       "output_type": "stream",
       "stream": "stdout",
       "text": [
        "-3.25\n"
       ]
      }
     ],
     "prompt_number": 8
    },
    {
     "cell_type": "code",
     "collapsed": false,
     "input": [
      "rent_cohens_d = (rent_xbar - rent_mu_null) / rent_sd\n",
      "print rent_cohens_d"
     ],
     "language": "python",
     "metadata": {},
     "outputs": [
      {
       "output_type": "stream",
       "stream": "stdout",
       "text": [
        "-0.65\n"
       ]
      }
     ],
     "prompt_number": 9
    },
    {
     "cell_type": "code",
     "collapsed": false,
     "input": [
      "# CI = (mean - (se * cv)), (mean + (se * cv))\n",
      "rent_se = 200 / sqrt(rent_n)\n",
      "rent_ci = ((rent_xbar - (rent_se * 2.064)), (rent_xbar + (rent_se * 2.064)))\n",
      "\n",
      "print str(rent_ci)"
     ],
     "language": "python",
     "metadata": {},
     "outputs": [
      {
       "output_type": "stream",
       "stream": "stdout",
       "text": [
        "(1617.4400000000001, 1782.5599999999999)\n"
       ]
      }
     ],
     "prompt_number": 11
    },
    {
     "cell_type": "code",
     "collapsed": false,
     "input": [
      "rent_marginerror_99dof = 1.984 * (200 / sqrt(100))\n",
      "\n",
      "print rent_marginerror_99dof"
     ],
     "language": "python",
     "metadata": {},
     "outputs": [
      {
       "output_type": "stream",
       "stream": "stdout",
       "text": [
        "39.68\n"
       ]
      }
     ],
     "prompt_number": 13
    },
    {
     "cell_type": "code",
     "collapsed": false,
     "input": [],
     "language": "python",
     "metadata": {},
     "outputs": []
    }
   ],
   "metadata": {}
  }
 ]
}